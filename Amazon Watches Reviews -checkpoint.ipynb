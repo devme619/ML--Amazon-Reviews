{
 "cells": [
  {
   "cell_type": "code",
   "execution_count": 507,
   "id": "88f48586",
   "metadata": {},
   "outputs": [],
   "source": [
    "file = open('Watches.txt','r+')\n",
    "id = list()\n",
    "title = list()\n",
    "price = list()\n",
    "userId = list()\n",
    "profileName = list()\n",
    "helpfulness = list()\n",
    "score = list()\n",
    "time = list()\n",
    "summary = list()\n",
    "text = list()\n",
    "for line in file:\n",
    "    if line.startswith('product/productId:'):\n",
    "        id.append(line[19:])\n",
    "    elif line.startswith('product/title:'):\n",
    "        title.append(line[15:])\n",
    "    elif line.startswith('product/price:'):\n",
    "        price.append(line[15:])\n",
    "    elif line.startswith('review/userId:'):\n",
    "        userId.append(line[15:])\n",
    "    elif line.startswith('review/profileName:'):\n",
    "        profileName.append(line[20:])\n",
    "    elif line.startswith('review/helpfulness:'):\n",
    "        helpfulness.append(line[20:])\n",
    "    elif line.startswith('review/score:'):\n",
    "        score.append(line[14:])\n",
    "    elif line.startswith('review/time:'):\n",
    "        time.append(line[13:])\n",
    "    elif line.startswith('review/summary:'):\n",
    "        summary.append(line[16:])\n",
    "    elif line.startswith('review/text:'):\n",
    "        text.append(line[13:])\n",
    "final_list = list()\n",
    "final_list.append(id)\n",
    "final_list.append(title)\n",
    "final_list.append(price)\n",
    "final_list.append(userId)\n",
    "final_list.append(profileName)\n",
    "final_list.append(helpfulness)\n",
    "final_list.append(score)\n",
    "final_list.append(time)\n",
    "final_list.append(summary)\n",
    "final_list.append(text)\n"
   ]
  },
  {
   "cell_type": "code",
   "execution_count": 508,
   "id": "9df56c78",
   "metadata": {},
   "outputs": [
    {
     "name": "stdout",
     "output_type": "stream",
     "text": [
      "Requirement already satisfied: pandas in c:\\users\\devme\\anaconda3\\envs\\carprediction\\lib\\site-packages (1.3.5)\n",
      "Requirement already satisfied: numpy>=1.17.3 in c:\\users\\devme\\anaconda3\\envs\\carprediction\\lib\\site-packages (from pandas) (1.21.5)\n",
      "Requirement already satisfied: python-dateutil>=2.7.3 in c:\\users\\devme\\anaconda3\\envs\\carprediction\\lib\\site-packages (from pandas) (2.8.2)\n",
      "Requirement already satisfied: pytz>=2017.3 in c:\\users\\devme\\anaconda3\\envs\\carprediction\\lib\\site-packages (from pandas) (2022.1)\n",
      "Requirement already satisfied: six>=1.5 in c:\\users\\devme\\anaconda3\\envs\\carprediction\\lib\\site-packages (from python-dateutil>=2.7.3->pandas) (1.16.0)\n",
      "Note: you may need to restart the kernel to use updated packages.\n"
     ]
    }
   ],
   "source": [
    "pip install pandas"
   ]
  },
  {
   "cell_type": "code",
   "execution_count": 509,
   "id": "daa52510",
   "metadata": {},
   "outputs": [],
   "source": [
    "import pandas as pd"
   ]
  },
  {
   "cell_type": "code",
   "execution_count": 510,
   "id": "7a52fbe1",
   "metadata": {},
   "outputs": [],
   "source": [
    "score1 = list()\n",
    "for i in score:\n",
    "    i = float(i)\n",
    "    if i>3:\n",
    "        score1.append(int(1) )\n",
    "    elif i ==3:\n",
    "        score1.append(int(0))\n",
    "    else:\n",
    "        score1.append(int(-1))"
   ]
  },
  {
   "cell_type": "code",
   "execution_count": 511,
   "id": "e3e4ab81",
   "metadata": {},
   "outputs": [],
   "source": [
    "df = pd.DataFrame(list(zip(id, title, price, userId, profileName, helpfulness, score, time, summary, text, score1)),columns=['id', 'title', 'price', 'userId', 'profileName', 'helpfulness', 'score', 'time', 'summary', 'text', 'score1'])"
   ]
  },
  {
   "cell_type": "code",
   "execution_count": null,
   "id": "18854dc0",
   "metadata": {},
   "outputs": [],
   "source": []
  },
  {
   "cell_type": "code",
   "execution_count": 512,
   "id": "06ef7fe7",
   "metadata": {},
   "outputs": [],
   "source": [
    "df1 = df[['helpfulness', 'score', 'summary', 'text', 'score1']]"
   ]
  },
  {
   "cell_type": "code",
   "execution_count": 513,
   "id": "3c81677a",
   "metadata": {},
   "outputs": [
    {
     "data": {
      "text/plain": [
       " 1    53932\n",
       "-1     9026\n",
       " 0     5398\n",
       "Name: score1, dtype: int64"
      ]
     },
     "execution_count": 513,
     "metadata": {},
     "output_type": "execute_result"
    }
   ],
   "source": [
    "df1.score1.value_counts()"
   ]
  },
  {
   "cell_type": "code",
   "execution_count": 514,
   "id": "dd047716",
   "metadata": {
    "scrolled": false
   },
   "outputs": [
    {
     "data": {
      "text/html": [
       "<div>\n",
       "<style scoped>\n",
       "    .dataframe tbody tr th:only-of-type {\n",
       "        vertical-align: middle;\n",
       "    }\n",
       "\n",
       "    .dataframe tbody tr th {\n",
       "        vertical-align: top;\n",
       "    }\n",
       "\n",
       "    .dataframe thead th {\n",
       "        text-align: right;\n",
       "    }\n",
       "</style>\n",
       "<table border=\"1\" class=\"dataframe\">\n",
       "  <thead>\n",
       "    <tr style=\"text-align: right;\">\n",
       "      <th></th>\n",
       "      <th>helpfulness</th>\n",
       "      <th>score</th>\n",
       "      <th>summary</th>\n",
       "      <th>text</th>\n",
       "      <th>score1</th>\n",
       "    </tr>\n",
       "  </thead>\n",
       "  <tbody>\n",
       "    <tr>\n",
       "      <th>0</th>\n",
       "      <td>0/0\\n</td>\n",
       "      <td>4.0\\n</td>\n",
       "      <td>Unique G-Shock Design, same G-Shock Quality\\n</td>\n",
       "      <td>Having owned two previous G-Shocks in my life ...</td>\n",
       "      <td>1</td>\n",
       "    </tr>\n",
       "    <tr>\n",
       "      <th>1</th>\n",
       "      <td>0/0\\n</td>\n",
       "      <td>4.0\\n</td>\n",
       "      <td>Nice Watch\\n</td>\n",
       "      <td>Thats a good watch, light, comfortable, accura...</td>\n",
       "      <td>1</td>\n",
       "    </tr>\n",
       "    <tr>\n",
       "      <th>2</th>\n",
       "      <td>1/2\\n</td>\n",
       "      <td>5.0\\n</td>\n",
       "      <td>Is it battery powered or Solar/\\n</td>\n",
       "      <td>I am ready to purchase this beautiful watch bu...</td>\n",
       "      <td>1</td>\n",
       "    </tr>\n",
       "    <tr>\n",
       "      <th>3</th>\n",
       "      <td>3/3\\n</td>\n",
       "      <td>5.0\\n</td>\n",
       "      <td>2005 Latest Seiko Diver Models\\n</td>\n",
       "      <td>2005 Latest model from Seiko Model SKXA53K2. P...</td>\n",
       "      <td>1</td>\n",
       "    </tr>\n",
       "    <tr>\n",
       "      <th>4</th>\n",
       "      <td>0/0\\n</td>\n",
       "      <td>4.0\\n</td>\n",
       "      <td>Great watch with a few drawbacks\\n</td>\n",
       "      <td>Here are a few observations on one of my favor...</td>\n",
       "      <td>1</td>\n",
       "    </tr>\n",
       "  </tbody>\n",
       "</table>\n",
       "</div>"
      ],
      "text/plain": [
       "  helpfulness  score                                        summary  \\\n",
       "0       0/0\\n  4.0\\n  Unique G-Shock Design, same G-Shock Quality\\n   \n",
       "1       0/0\\n  4.0\\n                                   Nice Watch\\n   \n",
       "2       1/2\\n  5.0\\n              Is it battery powered or Solar/\\n   \n",
       "3       3/3\\n  5.0\\n               2005 Latest Seiko Diver Models\\n   \n",
       "4       0/0\\n  4.0\\n             Great watch with a few drawbacks\\n   \n",
       "\n",
       "                                                text  score1  \n",
       "0  Having owned two previous G-Shocks in my life ...       1  \n",
       "1  Thats a good watch, light, comfortable, accura...       1  \n",
       "2  I am ready to purchase this beautiful watch bu...       1  \n",
       "3  2005 Latest model from Seiko Model SKXA53K2. P...       1  \n",
       "4  Here are a few observations on one of my favor...       1  "
      ]
     },
     "execution_count": 514,
     "metadata": {},
     "output_type": "execute_result"
    }
   ],
   "source": [
    "df1.head()"
   ]
  },
  {
   "cell_type": "code",
   "execution_count": 515,
   "id": "84603b78",
   "metadata": {
    "scrolled": true
   },
   "outputs": [
    {
     "data": {
      "text/plain": [
       "(68356, 5)"
      ]
     },
     "execution_count": 515,
     "metadata": {},
     "output_type": "execute_result"
    }
   ],
   "source": [
    "df1.shape"
   ]
  },
  {
   "cell_type": "code",
   "execution_count": 516,
   "id": "6aa03b4f",
   "metadata": {},
   "outputs": [
    {
     "data": {
      "text/plain": [
       "helpfulness    0\n",
       "score          0\n",
       "summary        0\n",
       "text           0\n",
       "score1         0\n",
       "dtype: int64"
      ]
     },
     "execution_count": 516,
     "metadata": {},
     "output_type": "execute_result"
    }
   ],
   "source": [
    "df1.isnull().sum()"
   ]
  },
  {
   "cell_type": "code",
   "execution_count": 517,
   "id": "220bd94f",
   "metadata": {},
   "outputs": [
    {
     "data": {
      "text/plain": [
       "5.0\\n    39206\n",
       "4.0\\n    14726\n",
       "3.0\\n     5398\n",
       "1.0\\n     5376\n",
       "2.0\\n     3650\n",
       "Name: score, dtype: int64"
      ]
     },
     "execution_count": 517,
     "metadata": {},
     "output_type": "execute_result"
    }
   ],
   "source": [
    "df1.score.value_counts()"
   ]
  },
  {
   "cell_type": "code",
   "execution_count": 518,
   "id": "3ba9c645",
   "metadata": {},
   "outputs": [],
   "source": [
    "#df1.apply(lambda x:x.replace('\\n', \" \"))"
   ]
  },
  {
   "cell_type": "code",
   "execution_count": 519,
   "id": "8584c783",
   "metadata": {},
   "outputs": [],
   "source": [
    "#df1['summary'].apply(lambda x:x.replace('x[-2]', \" \"))"
   ]
  },
  {
   "cell_type": "code",
   "execution_count": 520,
   "id": "26232aad",
   "metadata": {},
   "outputs": [],
   "source": [
    "#df1['summary'][0][-2]"
   ]
  },
  {
   "cell_type": "code",
   "execution_count": 521,
   "id": "cec33605",
   "metadata": {},
   "outputs": [],
   "source": [
    "#df1['summary'].apply(lambda x:x.replace(x[-3:-1], \"\"))"
   ]
  },
  {
   "cell_type": "code",
   "execution_count": 522,
   "id": "9739b39c",
   "metadata": {},
   "outputs": [],
   "source": [
    "X = df1.iloc[:,:4] \n",
    "y = df1.iloc[:,4]"
   ]
  },
  {
   "cell_type": "code",
   "execution_count": 523,
   "id": "76ad768c",
   "metadata": {},
   "outputs": [
    {
     "data": {
      "text/html": [
       "<div>\n",
       "<style scoped>\n",
       "    .dataframe tbody tr th:only-of-type {\n",
       "        vertical-align: middle;\n",
       "    }\n",
       "\n",
       "    .dataframe tbody tr th {\n",
       "        vertical-align: top;\n",
       "    }\n",
       "\n",
       "    .dataframe thead th {\n",
       "        text-align: right;\n",
       "    }\n",
       "</style>\n",
       "<table border=\"1\" class=\"dataframe\">\n",
       "  <thead>\n",
       "    <tr style=\"text-align: right;\">\n",
       "      <th></th>\n",
       "      <th>helpfulness</th>\n",
       "      <th>score</th>\n",
       "      <th>summary</th>\n",
       "      <th>text</th>\n",
       "    </tr>\n",
       "  </thead>\n",
       "  <tbody>\n",
       "    <tr>\n",
       "      <th>0</th>\n",
       "      <td>0/0\\n</td>\n",
       "      <td>4.0\\n</td>\n",
       "      <td>Unique G-Shock Design, same G-Shock Quality\\n</td>\n",
       "      <td>Having owned two previous G-Shocks in my life ...</td>\n",
       "    </tr>\n",
       "    <tr>\n",
       "      <th>1</th>\n",
       "      <td>0/0\\n</td>\n",
       "      <td>4.0\\n</td>\n",
       "      <td>Nice Watch\\n</td>\n",
       "      <td>Thats a good watch, light, comfortable, accura...</td>\n",
       "    </tr>\n",
       "    <tr>\n",
       "      <th>2</th>\n",
       "      <td>1/2\\n</td>\n",
       "      <td>5.0\\n</td>\n",
       "      <td>Is it battery powered or Solar/\\n</td>\n",
       "      <td>I am ready to purchase this beautiful watch bu...</td>\n",
       "    </tr>\n",
       "    <tr>\n",
       "      <th>3</th>\n",
       "      <td>3/3\\n</td>\n",
       "      <td>5.0\\n</td>\n",
       "      <td>2005 Latest Seiko Diver Models\\n</td>\n",
       "      <td>2005 Latest model from Seiko Model SKXA53K2. P...</td>\n",
       "    </tr>\n",
       "    <tr>\n",
       "      <th>4</th>\n",
       "      <td>0/0\\n</td>\n",
       "      <td>4.0\\n</td>\n",
       "      <td>Great watch with a few drawbacks\\n</td>\n",
       "      <td>Here are a few observations on one of my favor...</td>\n",
       "    </tr>\n",
       "  </tbody>\n",
       "</table>\n",
       "</div>"
      ],
      "text/plain": [
       "  helpfulness  score                                        summary  \\\n",
       "0       0/0\\n  4.0\\n  Unique G-Shock Design, same G-Shock Quality\\n   \n",
       "1       0/0\\n  4.0\\n                                   Nice Watch\\n   \n",
       "2       1/2\\n  5.0\\n              Is it battery powered or Solar/\\n   \n",
       "3       3/3\\n  5.0\\n               2005 Latest Seiko Diver Models\\n   \n",
       "4       0/0\\n  4.0\\n             Great watch with a few drawbacks\\n   \n",
       "\n",
       "                                                text  \n",
       "0  Having owned two previous G-Shocks in my life ...  \n",
       "1  Thats a good watch, light, comfortable, accura...  \n",
       "2  I am ready to purchase this beautiful watch bu...  \n",
       "3  2005 Latest model from Seiko Model SKXA53K2. P...  \n",
       "4  Here are a few observations on one of my favor...  "
      ]
     },
     "execution_count": 523,
     "metadata": {},
     "output_type": "execute_result"
    }
   ],
   "source": [
    "X.head()\n",
    "    "
   ]
  },
  {
   "cell_type": "code",
   "execution_count": 524,
   "id": "87df0877",
   "metadata": {},
   "outputs": [
    {
     "data": {
      "text/plain": [
       "0    1\n",
       "1    1\n",
       "2    1\n",
       "3    1\n",
       "4    1\n",
       "Name: score1, dtype: int64"
      ]
     },
     "execution_count": 524,
     "metadata": {},
     "output_type": "execute_result"
    }
   ],
   "source": [
    "y.head()"
   ]
  },
  {
   "cell_type": "code",
   "execution_count": 525,
   "id": "a87aa0fb",
   "metadata": {},
   "outputs": [],
   "source": [
    "data_X = X.iloc[: , 2:4]"
   ]
  },
  {
   "cell_type": "code",
   "execution_count": 526,
   "id": "e030fde7",
   "metadata": {},
   "outputs": [
    {
     "data": {
      "text/html": [
       "<div>\n",
       "<style scoped>\n",
       "    .dataframe tbody tr th:only-of-type {\n",
       "        vertical-align: middle;\n",
       "    }\n",
       "\n",
       "    .dataframe tbody tr th {\n",
       "        vertical-align: top;\n",
       "    }\n",
       "\n",
       "    .dataframe thead th {\n",
       "        text-align: right;\n",
       "    }\n",
       "</style>\n",
       "<table border=\"1\" class=\"dataframe\">\n",
       "  <thead>\n",
       "    <tr style=\"text-align: right;\">\n",
       "      <th></th>\n",
       "      <th>summary</th>\n",
       "      <th>text</th>\n",
       "    </tr>\n",
       "  </thead>\n",
       "  <tbody>\n",
       "    <tr>\n",
       "      <th>0</th>\n",
       "      <td>Unique G-Shock Design, same G-Shock Quality\\n</td>\n",
       "      <td>Having owned two previous G-Shocks in my life ...</td>\n",
       "    </tr>\n",
       "    <tr>\n",
       "      <th>1</th>\n",
       "      <td>Nice Watch\\n</td>\n",
       "      <td>Thats a good watch, light, comfortable, accura...</td>\n",
       "    </tr>\n",
       "    <tr>\n",
       "      <th>2</th>\n",
       "      <td>Is it battery powered or Solar/\\n</td>\n",
       "      <td>I am ready to purchase this beautiful watch bu...</td>\n",
       "    </tr>\n",
       "    <tr>\n",
       "      <th>3</th>\n",
       "      <td>2005 Latest Seiko Diver Models\\n</td>\n",
       "      <td>2005 Latest model from Seiko Model SKXA53K2. P...</td>\n",
       "    </tr>\n",
       "    <tr>\n",
       "      <th>4</th>\n",
       "      <td>Great watch with a few drawbacks\\n</td>\n",
       "      <td>Here are a few observations on one of my favor...</td>\n",
       "    </tr>\n",
       "  </tbody>\n",
       "</table>\n",
       "</div>"
      ],
      "text/plain": [
       "                                         summary  \\\n",
       "0  Unique G-Shock Design, same G-Shock Quality\\n   \n",
       "1                                   Nice Watch\\n   \n",
       "2              Is it battery powered or Solar/\\n   \n",
       "3               2005 Latest Seiko Diver Models\\n   \n",
       "4             Great watch with a few drawbacks\\n   \n",
       "\n",
       "                                                text  \n",
       "0  Having owned two previous G-Shocks in my life ...  \n",
       "1  Thats a good watch, light, comfortable, accura...  \n",
       "2  I am ready to purchase this beautiful watch bu...  \n",
       "3  2005 Latest model from Seiko Model SKXA53K2. P...  \n",
       "4  Here are a few observations on one of my favor...  "
      ]
     },
     "execution_count": 526,
     "metadata": {},
     "output_type": "execute_result"
    }
   ],
   "source": [
    "data_X.head()"
   ]
  },
  {
   "cell_type": "code",
   "execution_count": 527,
   "id": "0566124e",
   "metadata": {},
   "outputs": [
    {
     "name": "stderr",
     "output_type": "stream",
     "text": [
      "C:\\Users\\devme\\anaconda3\\envs\\carprediction\\lib\\site-packages\\pandas\\core\\frame.py:5244: SettingWithCopyWarning: \n",
      "A value is trying to be set on a copy of a slice from a DataFrame\n",
      "\n",
      "See the caveats in the documentation: https://pandas.pydata.org/pandas-docs/stable/user_guide/indexing.html#returning-a-view-versus-a-copy\n",
      "  method=method,\n"
     ]
    }
   ],
   "source": [
    "data_X.replace('[^a-zA-Z]',' ',regex = True, inplace=True)"
   ]
  },
  {
   "cell_type": "code",
   "execution_count": 528,
   "id": "e5e98de5",
   "metadata": {},
   "outputs": [
    {
     "data": {
      "text/html": [
       "<div>\n",
       "<style scoped>\n",
       "    .dataframe tbody tr th:only-of-type {\n",
       "        vertical-align: middle;\n",
       "    }\n",
       "\n",
       "    .dataframe tbody tr th {\n",
       "        vertical-align: top;\n",
       "    }\n",
       "\n",
       "    .dataframe thead th {\n",
       "        text-align: right;\n",
       "    }\n",
       "</style>\n",
       "<table border=\"1\" class=\"dataframe\">\n",
       "  <thead>\n",
       "    <tr style=\"text-align: right;\">\n",
       "      <th></th>\n",
       "      <th>helpfulness</th>\n",
       "      <th>score</th>\n",
       "      <th>summary</th>\n",
       "      <th>text</th>\n",
       "    </tr>\n",
       "  </thead>\n",
       "  <tbody>\n",
       "    <tr>\n",
       "      <th>0</th>\n",
       "      <td>0/0\\n</td>\n",
       "      <td>4.0\\n</td>\n",
       "      <td>Unique G Shock Design  same G Shock Quality</td>\n",
       "      <td>Having owned two previous G Shocks in my life ...</td>\n",
       "    </tr>\n",
       "    <tr>\n",
       "      <th>1</th>\n",
       "      <td>0/0\\n</td>\n",
       "      <td>4.0\\n</td>\n",
       "      <td>Nice Watch</td>\n",
       "      <td>Thats a good watch  light  comfortable  accura...</td>\n",
       "    </tr>\n",
       "    <tr>\n",
       "      <th>2</th>\n",
       "      <td>1/2\\n</td>\n",
       "      <td>5.0\\n</td>\n",
       "      <td>Is it battery powered or Solar</td>\n",
       "      <td>I am ready to purchase this beautiful watch bu...</td>\n",
       "    </tr>\n",
       "    <tr>\n",
       "      <th>3</th>\n",
       "      <td>3/3\\n</td>\n",
       "      <td>5.0\\n</td>\n",
       "      <td>Latest Seiko Diver Models</td>\n",
       "      <td>Latest model from Seiko Model SKXA  K   P...</td>\n",
       "    </tr>\n",
       "    <tr>\n",
       "      <th>4</th>\n",
       "      <td>0/0\\n</td>\n",
       "      <td>4.0\\n</td>\n",
       "      <td>Great watch with a few drawbacks</td>\n",
       "      <td>Here are a few observations on one of my favor...</td>\n",
       "    </tr>\n",
       "  </tbody>\n",
       "</table>\n",
       "</div>"
      ],
      "text/plain": [
       "  helpfulness  score                                       summary  \\\n",
       "0       0/0\\n  4.0\\n  Unique G Shock Design  same G Shock Quality    \n",
       "1       0/0\\n  4.0\\n                                   Nice Watch    \n",
       "2       1/2\\n  5.0\\n              Is it battery powered or Solar     \n",
       "3       3/3\\n  5.0\\n                    Latest Seiko Diver Models    \n",
       "4       0/0\\n  4.0\\n             Great watch with a few drawbacks    \n",
       "\n",
       "                                                text  \n",
       "0  Having owned two previous G Shocks in my life ...  \n",
       "1  Thats a good watch  light  comfortable  accura...  \n",
       "2  I am ready to purchase this beautiful watch bu...  \n",
       "3       Latest model from Seiko Model SKXA  K   P...  \n",
       "4  Here are a few observations on one of my favor...  "
      ]
     },
     "execution_count": 528,
     "metadata": {},
     "output_type": "execute_result"
    }
   ],
   "source": [
    "X.head()"
   ]
  },
  {
   "cell_type": "code",
   "execution_count": 529,
   "id": "aa589416",
   "metadata": {},
   "outputs": [
    {
     "data": {
      "text/plain": [
       "Index(['helpfulness', 'score', 'summary', 'text'], dtype='object')"
      ]
     },
     "execution_count": 529,
     "metadata": {},
     "output_type": "execute_result"
    }
   ],
   "source": [
    "X.columns"
   ]
  },
  {
   "cell_type": "code",
   "execution_count": 530,
   "id": "af932200",
   "metadata": {},
   "outputs": [],
   "source": [
    "for index in ['helpfulness', 'score', 'summary', 'text']:\n",
    "    X[index] = X[index].str.lower()"
   ]
  },
  {
   "cell_type": "code",
   "execution_count": 531,
   "id": "73edcb2d",
   "metadata": {},
   "outputs": [
    {
     "data": {
      "text/html": [
       "<div>\n",
       "<style scoped>\n",
       "    .dataframe tbody tr th:only-of-type {\n",
       "        vertical-align: middle;\n",
       "    }\n",
       "\n",
       "    .dataframe tbody tr th {\n",
       "        vertical-align: top;\n",
       "    }\n",
       "\n",
       "    .dataframe thead th {\n",
       "        text-align: right;\n",
       "    }\n",
       "</style>\n",
       "<table border=\"1\" class=\"dataframe\">\n",
       "  <thead>\n",
       "    <tr style=\"text-align: right;\">\n",
       "      <th></th>\n",
       "      <th>helpfulness</th>\n",
       "      <th>score</th>\n",
       "      <th>summary</th>\n",
       "      <th>text</th>\n",
       "    </tr>\n",
       "  </thead>\n",
       "  <tbody>\n",
       "    <tr>\n",
       "      <th>0</th>\n",
       "      <td>0/0\\n</td>\n",
       "      <td>4.0\\n</td>\n",
       "      <td>unique g shock design  same g shock quality</td>\n",
       "      <td>having owned two previous g shocks in my life ...</td>\n",
       "    </tr>\n",
       "    <tr>\n",
       "      <th>1</th>\n",
       "      <td>0/0\\n</td>\n",
       "      <td>4.0\\n</td>\n",
       "      <td>nice watch</td>\n",
       "      <td>thats a good watch  light  comfortable  accura...</td>\n",
       "    </tr>\n",
       "    <tr>\n",
       "      <th>2</th>\n",
       "      <td>1/2\\n</td>\n",
       "      <td>5.0\\n</td>\n",
       "      <td>is it battery powered or solar</td>\n",
       "      <td>i am ready to purchase this beautiful watch bu...</td>\n",
       "    </tr>\n",
       "    <tr>\n",
       "      <th>3</th>\n",
       "      <td>3/3\\n</td>\n",
       "      <td>5.0\\n</td>\n",
       "      <td>latest seiko diver models</td>\n",
       "      <td>latest model from seiko model skxa  k   p...</td>\n",
       "    </tr>\n",
       "    <tr>\n",
       "      <th>4</th>\n",
       "      <td>0/0\\n</td>\n",
       "      <td>4.0\\n</td>\n",
       "      <td>great watch with a few drawbacks</td>\n",
       "      <td>here are a few observations on one of my favor...</td>\n",
       "    </tr>\n",
       "  </tbody>\n",
       "</table>\n",
       "</div>"
      ],
      "text/plain": [
       "  helpfulness  score                                       summary  \\\n",
       "0       0/0\\n  4.0\\n  unique g shock design  same g shock quality    \n",
       "1       0/0\\n  4.0\\n                                   nice watch    \n",
       "2       1/2\\n  5.0\\n              is it battery powered or solar     \n",
       "3       3/3\\n  5.0\\n                    latest seiko diver models    \n",
       "4       0/0\\n  4.0\\n             great watch with a few drawbacks    \n",
       "\n",
       "                                                text  \n",
       "0  having owned two previous g shocks in my life ...  \n",
       "1  thats a good watch  light  comfortable  accura...  \n",
       "2  i am ready to purchase this beautiful watch bu...  \n",
       "3       latest model from seiko model skxa  k   p...  \n",
       "4  here are a few observations on one of my favor...  "
      ]
     },
     "execution_count": 531,
     "metadata": {},
     "output_type": "execute_result"
    }
   ],
   "source": [
    "X.head()"
   ]
  },
  {
   "cell_type": "code",
   "execution_count": 532,
   "id": "9f247ab5",
   "metadata": {},
   "outputs": [],
   "source": [
    "from sklearn.model_selection import train_test_split\n",
    "X_train, X_test, y_train, y_test=train_test_split(X,y,test_size=0.2)"
   ]
  },
  {
   "cell_type": "code",
   "execution_count": null,
   "id": "a2fdfee1",
   "metadata": {},
   "outputs": [],
   "source": []
  },
  {
   "cell_type": "code",
   "execution_count": 533,
   "id": "2fb67f0d",
   "metadata": {},
   "outputs": [],
   "source": [
    "review_text = []\n",
    "for i in range(0, len(X_train.index)):\n",
    "    review_text.append(''.join(str(x) for x in X_train.iloc[i, 2:4]))"
   ]
  },
  {
   "cell_type": "code",
   "execution_count": 534,
   "id": "0bd952d9",
   "metadata": {},
   "outputs": [
    {
     "data": {
      "text/plain": [
       "(54684, 4)"
      ]
     },
     "execution_count": 534,
     "metadata": {},
     "output_type": "execute_result"
    }
   ],
   "source": [
    "X_train.shape"
   ]
  },
  {
   "cell_type": "code",
   "execution_count": 535,
   "id": "7bebbbc0",
   "metadata": {},
   "outputs": [
    {
     "data": {
      "text/plain": [
       "(13672, 4)"
      ]
     },
     "execution_count": 535,
     "metadata": {},
     "output_type": "execute_result"
    }
   ],
   "source": [
    "X_test.shape"
   ]
  },
  {
   "cell_type": "code",
   "execution_count": 536,
   "id": "f9e5050e",
   "metadata": {},
   "outputs": [
    {
     "data": {
      "text/html": [
       "<div>\n",
       "<style scoped>\n",
       "    .dataframe tbody tr th:only-of-type {\n",
       "        vertical-align: middle;\n",
       "    }\n",
       "\n",
       "    .dataframe tbody tr th {\n",
       "        vertical-align: top;\n",
       "    }\n",
       "\n",
       "    .dataframe thead th {\n",
       "        text-align: right;\n",
       "    }\n",
       "</style>\n",
       "<table border=\"1\" class=\"dataframe\">\n",
       "  <thead>\n",
       "    <tr style=\"text-align: right;\">\n",
       "      <th></th>\n",
       "      <th>helpfulness</th>\n",
       "      <th>score</th>\n",
       "      <th>summary</th>\n",
       "      <th>text</th>\n",
       "    </tr>\n",
       "  </thead>\n",
       "  <tbody>\n",
       "    <tr>\n",
       "      <th>34336</th>\n",
       "      <td>0/0\\n</td>\n",
       "      <td>5.0\\n</td>\n",
       "      <td>great watch</td>\n",
       "      <td>i have had this watch for a few months now and...</td>\n",
       "    </tr>\n",
       "    <tr>\n",
       "      <th>20401</th>\n",
       "      <td>0/0\\n</td>\n",
       "      <td>5.0\\n</td>\n",
       "      <td>great value</td>\n",
       "      <td>this is the third non swiss automatic pro dive...</td>\n",
       "    </tr>\n",
       "    <tr>\n",
       "      <th>5065</th>\n",
       "      <td>0/0\\n</td>\n",
       "      <td>5.0\\n</td>\n",
       "      <td>excelente</td>\n",
       "      <td>el paquete llego en el tiempo indicado  y en p...</td>\n",
       "    </tr>\n",
       "    <tr>\n",
       "      <th>39856</th>\n",
       "      <td>0/0\\n</td>\n",
       "      <td>1.0\\n</td>\n",
       "      <td>timex watches are cheap pieces of junk  custom...</td>\n",
       "      <td>timex watches are not what they used to be  th...</td>\n",
       "    </tr>\n",
       "    <tr>\n",
       "      <th>28601</th>\n",
       "      <td>0/4\\n</td>\n",
       "      <td>2.0\\n</td>\n",
       "      <td>bi lingual day reading</td>\n",
       "      <td>just sent the watch back  the  day  reading is...</td>\n",
       "    </tr>\n",
       "  </tbody>\n",
       "</table>\n",
       "</div>"
      ],
      "text/plain": [
       "      helpfulness  score                                            summary  \\\n",
       "34336       0/0\\n  5.0\\n                                       great watch    \n",
       "20401       0/0\\n  5.0\\n                                      great value     \n",
       "5065        0/0\\n  5.0\\n                                         excelente    \n",
       "39856       0/0\\n  1.0\\n  timex watches are cheap pieces of junk  custom...   \n",
       "28601       0/4\\n  2.0\\n                            bi lingual day reading    \n",
       "\n",
       "                                                    text  \n",
       "34336  i have had this watch for a few months now and...  \n",
       "20401  this is the third non swiss automatic pro dive...  \n",
       "5065   el paquete llego en el tiempo indicado  y en p...  \n",
       "39856  timex watches are not what they used to be  th...  \n",
       "28601  just sent the watch back  the  day  reading is...  "
      ]
     },
     "execution_count": 536,
     "metadata": {},
     "output_type": "execute_result"
    }
   ],
   "source": [
    "X_test.head()"
   ]
  },
  {
   "cell_type": "code",
   "execution_count": 537,
   "id": "926e9bdd",
   "metadata": {},
   "outputs": [
    {
     "data": {
      "text/html": [
       "<div>\n",
       "<style scoped>\n",
       "    .dataframe tbody tr th:only-of-type {\n",
       "        vertical-align: middle;\n",
       "    }\n",
       "\n",
       "    .dataframe tbody tr th {\n",
       "        vertical-align: top;\n",
       "    }\n",
       "\n",
       "    .dataframe thead th {\n",
       "        text-align: right;\n",
       "    }\n",
       "</style>\n",
       "<table border=\"1\" class=\"dataframe\">\n",
       "  <thead>\n",
       "    <tr style=\"text-align: right;\">\n",
       "      <th></th>\n",
       "      <th>helpfulness</th>\n",
       "      <th>score</th>\n",
       "      <th>summary</th>\n",
       "      <th>text</th>\n",
       "    </tr>\n",
       "  </thead>\n",
       "  <tbody>\n",
       "    <tr>\n",
       "      <th>0</th>\n",
       "      <td>0/0\\n</td>\n",
       "      <td>4.0\\n</td>\n",
       "      <td>unique g shock design  same g shock quality</td>\n",
       "      <td>having owned two previous g shocks in my life ...</td>\n",
       "    </tr>\n",
       "    <tr>\n",
       "      <th>1</th>\n",
       "      <td>0/0\\n</td>\n",
       "      <td>4.0\\n</td>\n",
       "      <td>nice watch</td>\n",
       "      <td>thats a good watch  light  comfortable  accura...</td>\n",
       "    </tr>\n",
       "    <tr>\n",
       "      <th>2</th>\n",
       "      <td>1/2\\n</td>\n",
       "      <td>5.0\\n</td>\n",
       "      <td>is it battery powered or solar</td>\n",
       "      <td>i am ready to purchase this beautiful watch bu...</td>\n",
       "    </tr>\n",
       "    <tr>\n",
       "      <th>3</th>\n",
       "      <td>3/3\\n</td>\n",
       "      <td>5.0\\n</td>\n",
       "      <td>latest seiko diver models</td>\n",
       "      <td>latest model from seiko model skxa  k   p...</td>\n",
       "    </tr>\n",
       "    <tr>\n",
       "      <th>4</th>\n",
       "      <td>0/0\\n</td>\n",
       "      <td>4.0\\n</td>\n",
       "      <td>great watch with a few drawbacks</td>\n",
       "      <td>here are a few observations on one of my favor...</td>\n",
       "    </tr>\n",
       "  </tbody>\n",
       "</table>\n",
       "</div>"
      ],
      "text/plain": [
       "  helpfulness  score                                       summary  \\\n",
       "0       0/0\\n  4.0\\n  unique g shock design  same g shock quality    \n",
       "1       0/0\\n  4.0\\n                                   nice watch    \n",
       "2       1/2\\n  5.0\\n              is it battery powered or solar     \n",
       "3       3/3\\n  5.0\\n                    latest seiko diver models    \n",
       "4       0/0\\n  4.0\\n             great watch with a few drawbacks    \n",
       "\n",
       "                                                text  \n",
       "0  having owned two previous g shocks in my life ...  \n",
       "1  thats a good watch  light  comfortable  accura...  \n",
       "2  i am ready to purchase this beautiful watch bu...  \n",
       "3       latest model from seiko model skxa  k   p...  \n",
       "4  here are a few observations on one of my favor...  "
      ]
     },
     "execution_count": 537,
     "metadata": {},
     "output_type": "execute_result"
    }
   ],
   "source": [
    "X.head()"
   ]
  },
  {
   "cell_type": "code",
   "execution_count": 538,
   "id": "d1f2fe48",
   "metadata": {},
   "outputs": [
    {
     "data": {
      "text/plain": [
       "'nice watch nice watch  made by bulova  a little on the high side price wise but expected with the hd face  '"
      ]
     },
     "execution_count": 538,
     "metadata": {},
     "output_type": "execute_result"
    }
   ],
   "source": [
    "review_text[1]"
   ]
  },
  {
   "cell_type": "code",
   "execution_count": 539,
   "id": "fe5ba534",
   "metadata": {},
   "outputs": [],
   "source": [
    "from sklearn.feature_extraction.text import CountVectorizer\n",
    "from sklearn.ensemble import RandomForestClassifier"
   ]
  },
  {
   "cell_type": "code",
   "execution_count": 540,
   "id": "29639312",
   "metadata": {},
   "outputs": [],
   "source": [
    "cv = CountVectorizer(ngram_range = (2,2))"
   ]
  },
  {
   "cell_type": "code",
   "execution_count": 541,
   "id": "d0788f0d",
   "metadata": {},
   "outputs": [],
   "source": [
    "X_train = cv.fit_transform(review_text)"
   ]
  },
  {
   "cell_type": "code",
   "execution_count": null,
   "id": "a609c943",
   "metadata": {},
   "outputs": [],
   "source": []
  },
  {
   "cell_type": "code",
   "execution_count": 542,
   "id": "5b99351b",
   "metadata": {},
   "outputs": [],
   "source": [
    "rf = RandomForestClassifier(n_estimators = 2, criterion = 'gini')"
   ]
  },
  {
   "cell_type": "code",
   "execution_count": 543,
   "id": "83ef7ca5",
   "metadata": {},
   "outputs": [
    {
     "data": {
      "text/plain": [
       "RandomForestClassifier(n_estimators=2)"
      ]
     },
     "execution_count": 543,
     "metadata": {},
     "output_type": "execute_result"
    }
   ],
   "source": [
    "rf.fit(X_train,y_train)"
   ]
  },
  {
   "cell_type": "code",
   "execution_count": 544,
   "id": "89e0071b",
   "metadata": {},
   "outputs": [
    {
     "data": {
      "text/html": [
       "<div>\n",
       "<style scoped>\n",
       "    .dataframe tbody tr th:only-of-type {\n",
       "        vertical-align: middle;\n",
       "    }\n",
       "\n",
       "    .dataframe tbody tr th {\n",
       "        vertical-align: top;\n",
       "    }\n",
       "\n",
       "    .dataframe thead th {\n",
       "        text-align: right;\n",
       "    }\n",
       "</style>\n",
       "<table border=\"1\" class=\"dataframe\">\n",
       "  <thead>\n",
       "    <tr style=\"text-align: right;\">\n",
       "      <th></th>\n",
       "      <th>helpfulness</th>\n",
       "      <th>score</th>\n",
       "      <th>summary</th>\n",
       "      <th>text</th>\n",
       "    </tr>\n",
       "  </thead>\n",
       "  <tbody>\n",
       "    <tr>\n",
       "      <th>count</th>\n",
       "      <td>13672</td>\n",
       "      <td>13672</td>\n",
       "      <td>13672</td>\n",
       "      <td>13672</td>\n",
       "    </tr>\n",
       "    <tr>\n",
       "      <th>unique</th>\n",
       "      <td>365</td>\n",
       "      <td>5</td>\n",
       "      <td>9994</td>\n",
       "      <td>13645</td>\n",
       "    </tr>\n",
       "    <tr>\n",
       "      <th>top</th>\n",
       "      <td>0/0\\n</td>\n",
       "      <td>5.0\\n</td>\n",
       "      <td>great watch</td>\n",
       "      <td>i am rather opinionated when it comes to luxur...</td>\n",
       "    </tr>\n",
       "    <tr>\n",
       "      <th>freq</th>\n",
       "      <td>6547</td>\n",
       "      <td>7739</td>\n",
       "      <td>445</td>\n",
       "      <td>3</td>\n",
       "    </tr>\n",
       "  </tbody>\n",
       "</table>\n",
       "</div>"
      ],
      "text/plain": [
       "       helpfulness  score       summary  \\\n",
       "count        13672  13672         13672   \n",
       "unique         365      5          9994   \n",
       "top          0/0\\n  5.0\\n  great watch    \n",
       "freq          6547   7739           445   \n",
       "\n",
       "                                                     text  \n",
       "count                                               13672  \n",
       "unique                                              13645  \n",
       "top     i am rather opinionated when it comes to luxur...  \n",
       "freq                                                    3  "
      ]
     },
     "execution_count": 544,
     "metadata": {},
     "output_type": "execute_result"
    }
   ],
   "source": [
    "X_test.describe()"
   ]
  },
  {
   "cell_type": "code",
   "execution_count": 545,
   "id": "9c0f01eb",
   "metadata": {},
   "outputs": [],
   "source": [
    "review_text_test = []"
   ]
  },
  {
   "cell_type": "code",
   "execution_count": 546,
   "id": "279a6679",
   "metadata": {},
   "outputs": [],
   "source": [
    "for i in range(0, len(X_test.index)):\n",
    "    review_text_test.append(''.join(str(x) for x in X_test.iloc[i, 2:4]))"
   ]
  },
  {
   "cell_type": "code",
   "execution_count": 547,
   "id": "c8f58ea2",
   "metadata": {},
   "outputs": [],
   "source": [
    "X_test = cv.transform(review_text_test)"
   ]
  },
  {
   "cell_type": "code",
   "execution_count": 548,
   "id": "381620fb",
   "metadata": {},
   "outputs": [],
   "source": [
    "predictions = rf.predict(X_test)"
   ]
  },
  {
   "cell_type": "code",
   "execution_count": 549,
   "id": "3a992644",
   "metadata": {},
   "outputs": [],
   "source": [
    "from sklearn.metrics import classification_report, confusion_matrix, accuracy_score\n"
   ]
  },
  {
   "cell_type": "code",
   "execution_count": 550,
   "id": "3d176c91",
   "metadata": {},
   "outputs": [
    {
     "name": "stdout",
     "output_type": "stream",
     "text": [
      "[[1028  203  570]\n",
      " [ 369  176  535]\n",
      " [1163  729 8899]]\n",
      "0.7389555295494441\n",
      "              precision    recall  f1-score   support\n",
      "\n",
      "          -1       0.40      0.57      0.47      1801\n",
      "           0       0.16      0.16      0.16      1080\n",
      "           1       0.89      0.82      0.86     10791\n",
      "\n",
      "    accuracy                           0.74     13672\n",
      "   macro avg       0.48      0.52      0.50     13672\n",
      "weighted avg       0.77      0.74      0.75     13672\n",
      "\n"
     ]
    }
   ],
   "source": [
    "matrix= confusion_matrix(y_test, predictions)\n",
    "print(matrix)\n",
    "score= accuracy_score(y_test, predictions)\n",
    "print(score)\n",
    "report = classification_report(y_test, predictions)\n",
    "print(report)"
   ]
  },
  {
   "cell_type": "code",
   "execution_count": null,
   "id": "0b4ccb85",
   "metadata": {},
   "outputs": [],
   "source": []
  }
 ],
 "metadata": {
  "kernelspec": {
   "display_name": "Python 3 (ipykernel)",
   "language": "python",
   "name": "python3"
  },
  "language_info": {
   "codemirror_mode": {
    "name": "ipython",
    "version": 3
   },
   "file_extension": ".py",
   "mimetype": "text/x-python",
   "name": "python",
   "nbconvert_exporter": "python",
   "pygments_lexer": "ipython3",
   "version": "3.7.13"
  }
 },
 "nbformat": 4,
 "nbformat_minor": 5
}
